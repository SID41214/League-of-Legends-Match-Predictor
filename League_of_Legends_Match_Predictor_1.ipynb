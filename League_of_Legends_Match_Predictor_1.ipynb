{
  "nbformat": 4,
  "nbformat_minor": 0,
  "metadata": {
    "colab": {
      "provenance": []
    },
    "kernelspec": {
      "name": "python3",
      "display_name": "Python 3"
    },
    "language_info": {
      "name": "python"
    }
  },
  "cells": [
    {
      "cell_type": "markdown",
      "source": [
        "### Introduction\n",
        "\n",
        "League of Legends, a popular multiplayer online battle arena (MOBA) game, generates extensive data from matches, providing an excellent opportunity to apply machine learning techniques to real-world scenarios. Perform the following steps to build a logistic regression model aimed at predicting the outcomes of League of Legends matches.\n",
        "\n",
        "Use the [league_of_legends_data_large.csv](https://cf-courses-data.s3.us.cloud-object-storage.appdomain.cloud/rk7VDaPjMp1h5VXS-cUyMg/league-of-legends-data-large.csv) file to perform the tasks.\n",
        "\n",
        "### Step 1: Data Loading and Preprocessing\n",
        "\n",
        "#### Task 1: Load the League of Legends dataset and preprocess it for training.\n",
        "\n",
        "Loading and preprocessing the dataset involves reading the data, splitting it into training and testing sets, and standardizing the features. You will utilize `pandas` for data manipulation, `train_test_split` from `sklearn` for data splitting, and `StandardScaler` for feature scaling.\n",
        "\n",
        "Note: Please ensure all the required libraries are installed and imported.\n",
        "\n",
        "1 .Load the dataset:\n",
        "Use `pd.read_csv()` to load the dataset into a pandas DataFrame.</br>\n",
        "2. Split data into features and target: Separate win (target) and the remaining columns (features).</br>\n",
        "   X = data.drop('win', axis=1)</br>\n",
        "   y = data['win'] </br>\n",
        "3 .Split the Data into Training and Testing Sets:\n",
        "Use `train_test_split()` from `sklearn.model_selection` to divide the data. Set `test_size`=0.2 to allocate 20% for testing and 80% for training, and use `random_state`=42 to ensure reproducibility of the split.</br>\n",
        "4. Standardize the features:\n",
        "Use `StandardScaler()` from sklearn.preprocessing to scale the features.</br>\n",
        "5. Convert to PyTorch tensors:\n",
        "Use `torch.tensor()` to convert the data to PyTorch tensors.\n",
        "\n",
        "#### Exercise 1:\n",
        "\n",
        "Write a code to load the dataset, split it into training and testing sets, standardize the features, and convert the data into PyTorch tensors for use in training a PyTorch model."
      ],
      "metadata": {
        "id": "H0d9HtNNjmyT"
      }
    },
    {
      "cell_type": "markdown",
      "source": [
        "### Setup\n",
        "Installing required libraries:\n",
        "\n",
        "The following required libraries are not pre-installed in the Skills Network Labs environment. You will need to run the following cell to install them:\n"
      ],
      "metadata": {
        "id": "iLyEbX8wj3QI"
      }
    },
    {
      "cell_type": "code",
      "source": [
        "!pip install pandas\n",
        "!pip install scikit-learn\n",
        "!pip install torch\n",
        "!pip install matplotlib\n"
      ],
      "metadata": {
        "colab": {
          "base_uri": "https://localhost:8080/"
        },
        "id": "Z_JE_p-Dj5J5",
        "outputId": "65334361-b524-4e13-b914-cd18ff2b68f5"
      },
      "execution_count": 1,
      "outputs": [
        {
          "output_type": "stream",
          "name": "stdout",
          "text": [
            "Requirement already satisfied: pandas in /usr/local/lib/python3.11/dist-packages (2.2.2)\n",
            "Requirement already satisfied: numpy>=1.23.2 in /usr/local/lib/python3.11/dist-packages (from pandas) (2.0.2)\n",
            "Requirement already satisfied: python-dateutil>=2.8.2 in /usr/local/lib/python3.11/dist-packages (from pandas) (2.9.0.post0)\n",
            "Requirement already satisfied: pytz>=2020.1 in /usr/local/lib/python3.11/dist-packages (from pandas) (2025.2)\n",
            "Requirement already satisfied: tzdata>=2022.7 in /usr/local/lib/python3.11/dist-packages (from pandas) (2025.2)\n",
            "Requirement already satisfied: six>=1.5 in /usr/local/lib/python3.11/dist-packages (from python-dateutil>=2.8.2->pandas) (1.17.0)\n",
            "Requirement already satisfied: scikit-learn in /usr/local/lib/python3.11/dist-packages (1.6.1)\n",
            "Requirement already satisfied: numpy>=1.19.5 in /usr/local/lib/python3.11/dist-packages (from scikit-learn) (2.0.2)\n",
            "Requirement already satisfied: scipy>=1.6.0 in /usr/local/lib/python3.11/dist-packages (from scikit-learn) (1.15.2)\n",
            "Requirement already satisfied: joblib>=1.2.0 in /usr/local/lib/python3.11/dist-packages (from scikit-learn) (1.4.2)\n",
            "Requirement already satisfied: threadpoolctl>=3.1.0 in /usr/local/lib/python3.11/dist-packages (from scikit-learn) (3.6.0)\n",
            "Requirement already satisfied: torch in /usr/local/lib/python3.11/dist-packages (2.6.0+cu124)\n",
            "Requirement already satisfied: filelock in /usr/local/lib/python3.11/dist-packages (from torch) (3.18.0)\n",
            "Requirement already satisfied: typing-extensions>=4.10.0 in /usr/local/lib/python3.11/dist-packages (from torch) (4.13.2)\n",
            "Requirement already satisfied: networkx in /usr/local/lib/python3.11/dist-packages (from torch) (3.4.2)\n",
            "Requirement already satisfied: jinja2 in /usr/local/lib/python3.11/dist-packages (from torch) (3.1.6)\n",
            "Requirement already satisfied: fsspec in /usr/local/lib/python3.11/dist-packages (from torch) (2025.3.2)\n",
            "Collecting nvidia-cuda-nvrtc-cu12==12.4.127 (from torch)\n",
            "  Downloading nvidia_cuda_nvrtc_cu12-12.4.127-py3-none-manylinux2014_x86_64.whl.metadata (1.5 kB)\n",
            "Collecting nvidia-cuda-runtime-cu12==12.4.127 (from torch)\n",
            "  Downloading nvidia_cuda_runtime_cu12-12.4.127-py3-none-manylinux2014_x86_64.whl.metadata (1.5 kB)\n",
            "Collecting nvidia-cuda-cupti-cu12==12.4.127 (from torch)\n",
            "  Downloading nvidia_cuda_cupti_cu12-12.4.127-py3-none-manylinux2014_x86_64.whl.metadata (1.6 kB)\n",
            "Collecting nvidia-cudnn-cu12==9.1.0.70 (from torch)\n",
            "  Downloading nvidia_cudnn_cu12-9.1.0.70-py3-none-manylinux2014_x86_64.whl.metadata (1.6 kB)\n",
            "Collecting nvidia-cublas-cu12==12.4.5.8 (from torch)\n",
            "  Downloading nvidia_cublas_cu12-12.4.5.8-py3-none-manylinux2014_x86_64.whl.metadata (1.5 kB)\n",
            "Collecting nvidia-cufft-cu12==11.2.1.3 (from torch)\n",
            "  Downloading nvidia_cufft_cu12-11.2.1.3-py3-none-manylinux2014_x86_64.whl.metadata (1.5 kB)\n",
            "Collecting nvidia-curand-cu12==10.3.5.147 (from torch)\n",
            "  Downloading nvidia_curand_cu12-10.3.5.147-py3-none-manylinux2014_x86_64.whl.metadata (1.5 kB)\n",
            "Collecting nvidia-cusolver-cu12==11.6.1.9 (from torch)\n",
            "  Downloading nvidia_cusolver_cu12-11.6.1.9-py3-none-manylinux2014_x86_64.whl.metadata (1.6 kB)\n",
            "Collecting nvidia-cusparse-cu12==12.3.1.170 (from torch)\n",
            "  Downloading nvidia_cusparse_cu12-12.3.1.170-py3-none-manylinux2014_x86_64.whl.metadata (1.6 kB)\n",
            "Requirement already satisfied: nvidia-cusparselt-cu12==0.6.2 in /usr/local/lib/python3.11/dist-packages (from torch) (0.6.2)\n",
            "Requirement already satisfied: nvidia-nccl-cu12==2.21.5 in /usr/local/lib/python3.11/dist-packages (from torch) (2.21.5)\n",
            "Requirement already satisfied: nvidia-nvtx-cu12==12.4.127 in /usr/local/lib/python3.11/dist-packages (from torch) (12.4.127)\n",
            "Collecting nvidia-nvjitlink-cu12==12.4.127 (from torch)\n",
            "  Downloading nvidia_nvjitlink_cu12-12.4.127-py3-none-manylinux2014_x86_64.whl.metadata (1.5 kB)\n",
            "Requirement already satisfied: triton==3.2.0 in /usr/local/lib/python3.11/dist-packages (from torch) (3.2.0)\n",
            "Requirement already satisfied: sympy==1.13.1 in /usr/local/lib/python3.11/dist-packages (from torch) (1.13.1)\n",
            "Requirement already satisfied: mpmath<1.4,>=1.1.0 in /usr/local/lib/python3.11/dist-packages (from sympy==1.13.1->torch) (1.3.0)\n",
            "Requirement already satisfied: MarkupSafe>=2.0 in /usr/local/lib/python3.11/dist-packages (from jinja2->torch) (3.0.2)\n",
            "Downloading nvidia_cublas_cu12-12.4.5.8-py3-none-manylinux2014_x86_64.whl (363.4 MB)\n",
            "\u001b[2K   \u001b[90m━━━━━━━━━━━━━━━━━━━━━━━━━━━━━━━━━━━━━━━━\u001b[0m \u001b[32m363.4/363.4 MB\u001b[0m \u001b[31m4.1 MB/s\u001b[0m eta \u001b[36m0:00:00\u001b[0m\n",
            "\u001b[?25hDownloading nvidia_cuda_cupti_cu12-12.4.127-py3-none-manylinux2014_x86_64.whl (13.8 MB)\n",
            "\u001b[2K   \u001b[90m━━━━━━━━━━━━━━━━━━━━━━━━━━━━━━━━━━━━━━━━\u001b[0m \u001b[32m13.8/13.8 MB\u001b[0m \u001b[31m61.0 MB/s\u001b[0m eta \u001b[36m0:00:00\u001b[0m\n",
            "\u001b[?25hDownloading nvidia_cuda_nvrtc_cu12-12.4.127-py3-none-manylinux2014_x86_64.whl (24.6 MB)\n",
            "\u001b[2K   \u001b[90m━━━━━━━━━━━━━━━━━━━━━━━━━━━━━━━━━━━━━━━━\u001b[0m \u001b[32m24.6/24.6 MB\u001b[0m \u001b[31m35.4 MB/s\u001b[0m eta \u001b[36m0:00:00\u001b[0m\n",
            "\u001b[?25hDownloading nvidia_cuda_runtime_cu12-12.4.127-py3-none-manylinux2014_x86_64.whl (883 kB)\n",
            "\u001b[2K   \u001b[90m━━━━━━━━━━━━━━━━━━━━━━━━━━━━━━━━━━━━━━━━\u001b[0m \u001b[32m883.7/883.7 kB\u001b[0m \u001b[31m41.4 MB/s\u001b[0m eta \u001b[36m0:00:00\u001b[0m\n",
            "\u001b[?25hDownloading nvidia_cudnn_cu12-9.1.0.70-py3-none-manylinux2014_x86_64.whl (664.8 MB)\n",
            "\u001b[2K   \u001b[90m━━━━━━━━━━━━━━━━━━━━━━━━━━━━━━━━━━━━━━━━\u001b[0m \u001b[32m664.8/664.8 MB\u001b[0m \u001b[31m1.3 MB/s\u001b[0m eta \u001b[36m0:00:00\u001b[0m\n",
            "\u001b[?25hDownloading nvidia_cufft_cu12-11.2.1.3-py3-none-manylinux2014_x86_64.whl (211.5 MB)\n",
            "\u001b[2K   \u001b[90m━━━━━━━━━━━━━━━━━━━━━━━━━━━━━━━━━━━━━━━━\u001b[0m \u001b[32m211.5/211.5 MB\u001b[0m \u001b[31m5.7 MB/s\u001b[0m eta \u001b[36m0:00:00\u001b[0m\n",
            "\u001b[?25hDownloading nvidia_curand_cu12-10.3.5.147-py3-none-manylinux2014_x86_64.whl (56.3 MB)\n",
            "\u001b[2K   \u001b[90m━━━━━━━━━━━━━━━━━━━━━━━━━━━━━━━━━━━━━━━━\u001b[0m \u001b[32m56.3/56.3 MB\u001b[0m \u001b[31m12.0 MB/s\u001b[0m eta \u001b[36m0:00:00\u001b[0m\n",
            "\u001b[?25hDownloading nvidia_cusolver_cu12-11.6.1.9-py3-none-manylinux2014_x86_64.whl (127.9 MB)\n",
            "\u001b[2K   \u001b[90m━━━━━━━━━━━━━━━━━━━━━━━━━━━━━━━━━━━━━━━━\u001b[0m \u001b[32m127.9/127.9 MB\u001b[0m \u001b[31m7.1 MB/s\u001b[0m eta \u001b[36m0:00:00\u001b[0m\n",
            "\u001b[?25hDownloading nvidia_cusparse_cu12-12.3.1.170-py3-none-manylinux2014_x86_64.whl (207.5 MB)\n",
            "\u001b[2K   \u001b[90m━━━━━━━━━━━━━━━━━━━━━━━━━━━━━━━━━━━━━━━━\u001b[0m \u001b[32m207.5/207.5 MB\u001b[0m \u001b[31m6.1 MB/s\u001b[0m eta \u001b[36m0:00:00\u001b[0m\n",
            "\u001b[?25hDownloading nvidia_nvjitlink_cu12-12.4.127-py3-none-manylinux2014_x86_64.whl (21.1 MB)\n",
            "\u001b[2K   \u001b[90m━━━━━━━━━━━━━━━━━━━━━━━━━━━━━━━━━━━━━━━━\u001b[0m \u001b[32m21.1/21.1 MB\u001b[0m \u001b[31m62.0 MB/s\u001b[0m eta \u001b[36m0:00:00\u001b[0m\n",
            "\u001b[?25hInstalling collected packages: nvidia-nvjitlink-cu12, nvidia-curand-cu12, nvidia-cufft-cu12, nvidia-cuda-runtime-cu12, nvidia-cuda-nvrtc-cu12, nvidia-cuda-cupti-cu12, nvidia-cublas-cu12, nvidia-cusparse-cu12, nvidia-cudnn-cu12, nvidia-cusolver-cu12\n",
            "  Attempting uninstall: nvidia-nvjitlink-cu12\n",
            "    Found existing installation: nvidia-nvjitlink-cu12 12.5.82\n",
            "    Uninstalling nvidia-nvjitlink-cu12-12.5.82:\n",
            "      Successfully uninstalled nvidia-nvjitlink-cu12-12.5.82\n",
            "  Attempting uninstall: nvidia-curand-cu12\n",
            "    Found existing installation: nvidia-curand-cu12 10.3.6.82\n",
            "    Uninstalling nvidia-curand-cu12-10.3.6.82:\n",
            "      Successfully uninstalled nvidia-curand-cu12-10.3.6.82\n",
            "  Attempting uninstall: nvidia-cufft-cu12\n",
            "    Found existing installation: nvidia-cufft-cu12 11.2.3.61\n",
            "    Uninstalling nvidia-cufft-cu12-11.2.3.61:\n",
            "      Successfully uninstalled nvidia-cufft-cu12-11.2.3.61\n",
            "  Attempting uninstall: nvidia-cuda-runtime-cu12\n",
            "    Found existing installation: nvidia-cuda-runtime-cu12 12.5.82\n",
            "    Uninstalling nvidia-cuda-runtime-cu12-12.5.82:\n",
            "      Successfully uninstalled nvidia-cuda-runtime-cu12-12.5.82\n",
            "  Attempting uninstall: nvidia-cuda-nvrtc-cu12\n",
            "    Found existing installation: nvidia-cuda-nvrtc-cu12 12.5.82\n",
            "    Uninstalling nvidia-cuda-nvrtc-cu12-12.5.82:\n",
            "      Successfully uninstalled nvidia-cuda-nvrtc-cu12-12.5.82\n",
            "  Attempting uninstall: nvidia-cuda-cupti-cu12\n",
            "    Found existing installation: nvidia-cuda-cupti-cu12 12.5.82\n",
            "    Uninstalling nvidia-cuda-cupti-cu12-12.5.82:\n",
            "      Successfully uninstalled nvidia-cuda-cupti-cu12-12.5.82\n",
            "  Attempting uninstall: nvidia-cublas-cu12\n",
            "    Found existing installation: nvidia-cublas-cu12 12.5.3.2\n",
            "    Uninstalling nvidia-cublas-cu12-12.5.3.2:\n",
            "      Successfully uninstalled nvidia-cublas-cu12-12.5.3.2\n",
            "  Attempting uninstall: nvidia-cusparse-cu12\n",
            "    Found existing installation: nvidia-cusparse-cu12 12.5.1.3\n",
            "    Uninstalling nvidia-cusparse-cu12-12.5.1.3:\n",
            "      Successfully uninstalled nvidia-cusparse-cu12-12.5.1.3\n",
            "  Attempting uninstall: nvidia-cudnn-cu12\n",
            "    Found existing installation: nvidia-cudnn-cu12 9.3.0.75\n",
            "    Uninstalling nvidia-cudnn-cu12-9.3.0.75:\n",
            "      Successfully uninstalled nvidia-cudnn-cu12-9.3.0.75\n",
            "  Attempting uninstall: nvidia-cusolver-cu12\n",
            "    Found existing installation: nvidia-cusolver-cu12 11.6.3.83\n",
            "    Uninstalling nvidia-cusolver-cu12-11.6.3.83:\n",
            "      Successfully uninstalled nvidia-cusolver-cu12-11.6.3.83\n",
            "Successfully installed nvidia-cublas-cu12-12.4.5.8 nvidia-cuda-cupti-cu12-12.4.127 nvidia-cuda-nvrtc-cu12-12.4.127 nvidia-cuda-runtime-cu12-12.4.127 nvidia-cudnn-cu12-9.1.0.70 nvidia-cufft-cu12-11.2.1.3 nvidia-curand-cu12-10.3.5.147 nvidia-cusolver-cu12-11.6.1.9 nvidia-cusparse-cu12-12.3.1.170 nvidia-nvjitlink-cu12-12.4.127\n",
            "Requirement already satisfied: matplotlib in /usr/local/lib/python3.11/dist-packages (3.10.0)\n",
            "Requirement already satisfied: contourpy>=1.0.1 in /usr/local/lib/python3.11/dist-packages (from matplotlib) (1.3.2)\n",
            "Requirement already satisfied: cycler>=0.10 in /usr/local/lib/python3.11/dist-packages (from matplotlib) (0.12.1)\n",
            "Requirement already satisfied: fonttools>=4.22.0 in /usr/local/lib/python3.11/dist-packages (from matplotlib) (4.57.0)\n",
            "Requirement already satisfied: kiwisolver>=1.3.1 in /usr/local/lib/python3.11/dist-packages (from matplotlib) (1.4.8)\n",
            "Requirement already satisfied: numpy>=1.23 in /usr/local/lib/python3.11/dist-packages (from matplotlib) (2.0.2)\n",
            "Requirement already satisfied: packaging>=20.0 in /usr/local/lib/python3.11/dist-packages (from matplotlib) (24.2)\n",
            "Requirement already satisfied: pillow>=8 in /usr/local/lib/python3.11/dist-packages (from matplotlib) (11.2.1)\n",
            "Requirement already satisfied: pyparsing>=2.3.1 in /usr/local/lib/python3.11/dist-packages (from matplotlib) (3.2.3)\n",
            "Requirement already satisfied: python-dateutil>=2.7 in /usr/local/lib/python3.11/dist-packages (from matplotlib) (2.9.0.post0)\n",
            "Requirement already satisfied: six>=1.5 in /usr/local/lib/python3.11/dist-packages (from python-dateutil>=2.7->matplotlib) (1.17.0)\n"
          ]
        }
      ]
    },
    {
      "cell_type": "markdown",
      "source": [
        "### Step 2: Logistic Regression Model\n",
        "\n",
        "#### Task 2: Implement a logistic regression model using PyTorch.\n",
        "\n",
        "Defining the logistic regression model involves specifying the input dimensions, the forward pass using the sigmoid activation function, and initializing the model, loss function, and optimizer.\n",
        "\n",
        "1 .Define the Logistic Regression Model:</br>\n",
        "  Create a class LogisticRegressionModel that inherits from torch.nn.Module.</br>\n",
        " - In the `__init__()` method, define a linear layer (nn.Linear) to implement the logistic regression model.</br>\n",
        "- The `forward()` method should apply the sigmoid activation function to the output of the linear layer.</br>\n",
        "\n",
        "2.Initialize the Model, Loss Function, and Optimizer:</br>\n",
        "- Set input_dim: Use `X_train.shape[1]` to get the number of features from the training data (X_train).</br>\n",
        "- Initialize the model: Create an instance of the LogisticRegressionModel class  (e.g., `model = LogisticRegressionModel()`)while passing input_dim as a parameter</br>\n",
        "- Loss Function: Use `BCELoss()` from torch.nn (Binary Cross-Entropy Loss).</br>\n",
        "- Optimizer: Initialize the optimizer using `optim.SGD()` with a learning rate of 0.01</br>\n",
        "\n",
        "#### Exercise 2:\n",
        "\n",
        "Define the logistic regression model using PyTorch, specifying the input dimensions and the forward pass. Initialize the model, loss function, and optimizer.\n"
      ],
      "metadata": {
        "id": "ZZcAHcxrkldd"
      }
    },
    {
      "cell_type": "markdown",
      "source": [
        "### Step 3: Model Training\n",
        "\n",
        "#### Task 3: Train the logistic regression model on the dataset.\n",
        "\n",
        "The training loop will run for a specified number of epochs. In each epoch, the model makes predictions, calculates the loss, performs backpropagation, and updates the model parameters.\n",
        "\n",
        "1. Set Number of Epochs:  \n",
        "   - Define the number of epochs for training to 1000.\n",
        "\n",
        "2. Training Loop:  \n",
        "   For each epoch:\n",
        "   - Set the model to training mode using `model.train()`.\n",
        "   - Zero the gradients using `optimizer.zero_grad()`.\n",
        "   - Pass the training data (`X_train`) through the model to get the predictions (`outputs`).\n",
        "   - Calculate the loss using the defined loss function (`criterion`).\n",
        "   - Perform backpropagation with `loss.backward()`.\n",
        "   - Update the model's weights using `optimizer.step()`.\n",
        "\n",
        "3. Print Loss Every 100 Epochs:  \n",
        "   - After every 100 epochs, print the current epoch number and the loss value.\n",
        "\n",
        "4. Model Evaluation:  \n",
        "   - Set the model to evaluation mode using `model.eval()`.\n",
        "   - Use `torch.no_grad()` to ensure no gradients are calculated during evaluation.\n",
        "   - Get predictions on both the training set (`X_train`) and the test set (`X_test`).\n",
        "\n",
        "5. Calculate Accuracy:  \n",
        "   - For both the training and test datasets, compute the accuracy by comparing the predicted values with the true values (`y_train`, `y_test`).\n",
        "   - Use a threshold of 0.5 for classification\n",
        "   \n",
        "6. Print Accuracy:  \n",
        "   - Print the training and test accuracies after the evaluation is complete.\n",
        "\n",
        "#### Exercise 3:\n",
        "\n",
        "Write the code to train the logistic regression model on the dataset. Implement the training loop, making predictions, calculating the loss, performing backpropagation, and updating model parameters. Evaluate the model's accuracy on training and testing sets.\n"
      ],
      "metadata": {
        "id": "eDtIKaw8kmif"
      }
    },
    {
      "cell_type": "markdown",
      "source": [
        "### Step 4: Model Optimization and Evaluation\n",
        "\n",
        "#### Task 4: Implement optimization techniques and evaluate the model's performance.\n",
        "\n",
        "Optimization techniques such as L2 regularization (Ridge Regression) help in preventing overfitting. The model is retrained with these optimizations, and its performance is evaluated on both training and testing sets.\n",
        "\n",
        "**Weight Decay** :In the context of machine learning and specifically in optimization algorithms, weight_decay is a parameter used to apply L2 regularization to the model's parameters (weights). It helps prevent the model from overfitting by penalizing large weight values, thereby encouraging the model to find simpler solutions.To use L2 regularization, you need to modify the optimizer by setting the weight_decay parameter. The weight_decay parameter in the optimizer adds the L2 regularization term during training.\n",
        "For example, when you initialize the optimizer with optim.SGD(model.parameters(), lr=0.01, weight_decay=0.01), the weight_decay=0.01 term applies L2 regularization with a strength of 0.01.\n",
        "\n",
        "1. Set Up the Optimizer with L2 Regularization:\n",
        "   - Modify the optimizer to include `weight_decay` for L2 regularization.\n",
        "   - Example:\n",
        "     ```python\n",
        "     optimizer = optim.SGD(model.parameters(), lr=0.01, weight_decay=0.01)\n",
        "     ```\n",
        "2. Train the Model with L2 Regularization:\n",
        "    - Follow the same steps as before but use the updated optimizer with regularization during training.\n",
        "    - Use epochs=1000\n",
        "   \n",
        "3. Evaluate the Optimized Model:\n",
        "   - After training, evaluate the model on both the training and test datasets.\n",
        "   - Compute the accuracy for both sets by comparing the model's predictions to the true labels (`y_train` and `y_test`).\n",
        "\n",
        "4. Calculate and Print the Accuracy:\n",
        "   - Use a threshold of 0.5 to determine whether the model's predictions are class 0 or class 1.\n",
        "   - Print the training accuracy and test accuracy  after evaluation.\n",
        "\n",
        "\n",
        "#### Exercise 4:\n",
        "\n",
        "Implement optimization techniques like L2 regularization and retrain the model. Evaluate the performance of the optimized model on both training and testing sets."
      ],
      "metadata": {
        "id": "2eZ5RS3Bkyi4"
      }
    },
    {
      "cell_type": "markdown",
      "source": [
        "### Step 5: Visualization and Interpretation\n",
        "\n",
        "Visualization tools like confusion matrices and ROC curves provide insights into the model's performance. The confusion matrix helps in understanding the classification accuracy, while the ROC curve illustrates the trade-off between sensitivity and specificity.\n",
        "\n",
        "Confusion Matrix : A Confusion Matrix is a fundamental tool used in classification problems to evaluate the performance of a model. It provides a matrix showing the number of correct and incorrect predictions made by the model, categorized by the actual and predicted classes.\n",
        "Where\n",
        "-  True Positive (TP): Correctly predicted positive class (class 1).\n",
        "- True Negative (TN): Correctly predicted negative class (class 0).\n",
        "- False Positive (FP): Incorrectly predicted as positive (class 1), but the actual class is negative (class 0). This is also called a Type I error.\n",
        "- False Negative (FN): Incorrectly predicted as negative (class 0), but the actual class is positive (class 1). This is also called a Type II error.\n",
        "\n",
        "ROC Curve (Receiver Operating Characteristic Curve):\n",
        "The ROC Curve is a graphical representation used to evaluate the performance of a binary classification model across all classification thresholds. It plots two metrics:\n",
        "- True Positive Rate (TPR) or Recall (Sensitivity)-It is the proportion of actual positive instances (class 1) that were correctly classified as positive by the model.\n",
        "- False Positive Rate (FPR)-It is the proportion of actual negative instances (class 0) that were incorrectly classified as positive by the model.\n",
        "  \n",
        "AUC:\n",
        "AUC stands for Area Under the Curve and is a performance metric used to evaluate the quality of a binary classification model. Specifically, it refers to the area under the ROC curve (Receiver Operating Characteristic curve), which plots the True Positive Rate (TPR) versus the False Positive Rate (FPR) for different threshold values.\n",
        "\n",
        "Classification Report:\n",
        "A Classification Report is a summary of various classification metrics, which are useful for evaluating the performance of a classifier on the given dataset.\n",
        "\n",
        "#### Exercise 5:\n",
        "\n",
        "Write code to visualize the model's performance using confusion matrices and ROC curves. Generate classification reports to evaluate precision, recall, and F1-score. Retrain the model with L2 regularization and evaluate the performance."
      ],
      "metadata": {
        "id": "ZwK202Z_kzRg"
      }
    },
    {
      "cell_type": "code",
      "source": [
        "# #Change the name of variables as per your code\n",
        "# import matplotlib.pyplot as plt\n",
        "# from sklearn.metrics import confusion_matrix, classification_report, roc_curve, auc\n",
        "# import itertools\n",
        "\n",
        "# # Visualize the confusion matrix\n",
        "# #Change the variable names as used in your code\n",
        "# y_pred_test_labels = (y_pred_test > 0.5).float()\n",
        "# cm = confusion_matrix(y_test, y_pred_test_labels)\n",
        "\n",
        "# plt.figure(figsize=(6, 6))\n",
        "# plt.imshow(cm, interpolation='nearest', cmap=plt.cm.Blues)\n",
        "# plt.title('Confusion Matrix')\n",
        "# plt.colorbar()\n",
        "# tick_marks = range(2)\n",
        "# plt.xticks(tick_marks, ['Loss', 'Win'], rotation=45)\n",
        "# plt.yticks(tick_marks, ['Loss', 'Win'])\n",
        "\n",
        "# thresh = cm.max() / 2\n",
        "# for i, j in itertools.product(range(cm.shape[0]), range(cm.shape[1])):\n",
        "#     plt.text(j, i, cm[i, j], horizontalalignment=\"center\", color=\"white\" if cm[i, j] > thresh else \"black\")\n",
        "\n",
        "# plt.tight_layout()\n",
        "# plt.ylabel('True label')\n",
        "# plt.xlabel('Predicted label')\n",
        "# plt.show()\n",
        "\n",
        "# # Print classification report\n",
        "# print(\"Classification Report:\\n\", classification_report(y_test, y_pred_test_labels, target_names=['Loss', 'Win']))\n",
        "\n",
        "# # Plot ROC curve\n",
        "# fpr, tpr, thresholds = roc_curve(y_test, y_pred_test)\n",
        "# roc_auc = auc(fpr, tpr)\n",
        "\n",
        "# plt.figure()\n",
        "# plt.plot(fpr, tpr, color='darkorange', lw=2, label=f'ROC curve (area = {roc_auc:.2f})')\n",
        "# plt.plot([0, 1], [0, 1], color='navy', lw=2, linestyle='--')\n",
        "# plt.xlim([0.0, 1.0])\n",
        "# plt.ylim([0.0, 1.05])\n",
        "# plt.xlabel('False Positive Rate')\n",
        "# plt.ylabel('True Positive Rate')\n",
        "# plt.title('Receiver Operating Characteristic (ROC)')\n",
        "# plt.legend(loc=\"lower right\")\n",
        "# plt.show()"
      ],
      "metadata": {
        "id": "RKR28TyGlCuS"
      },
      "execution_count": 2,
      "outputs": []
    },
    {
      "cell_type": "markdown",
      "source": [
        "### Step 6: Model Saving and Loading\n",
        "\n",
        "#### Task 6: Save and load the trained model.\n",
        "\n",
        "This task demonstrates the techniques to persist a trained model using `torch.save` and reload it using `torch.load`. Evaluating the loaded model ensures that it retains its performance, making it practical for deployment in real-world applications.\n",
        "\n",
        "1. Saving the Model:\n",
        "- Save the model's learned weights and biases using torch.save().( e.g. , torch.save(model.state_dict(), 'your_model_name.pth'))\n",
        "- Saving only the state dictionary (model parameters) is preferred because it’s more flexible and efficient than saving the entire model object.\n",
        "\n",
        "2. Loading the Model:\n",
        "- Create a new model instance (e.g., `model = LogisticRegressionModel()`) and load the saved parameters. ( e.g. , `model.load_state_dict(torch.load('your_model_name.pth'))`)`.\n",
        "\n",
        "3. Evaluating the Loaded Model:\n",
        "   - After loading, set the model to evaluation mode by calling `model.eval()\n",
        "   - After loading the model, evaluate it again on the test dataset to make sure it performs similarly to when it was first trained..Now evaluate it on the test data.\n",
        "   - Use `torch.no_grad()` to ensure that no gradients are computed.\n",
        "\n",
        "#### Exercise 6:\n",
        "\n",
        "Write code to save the trained model and reload it. Ensure the loaded model performs consistently by evaluating it on the test dataset."
      ],
      "metadata": {
        "id": "SepypWaDk9xj"
      }
    },
    {
      "cell_type": "markdown",
      "source": [
        "### Step 7: Hyperparameter Tuning\n",
        "\n",
        "#### Task 7: Perform hyperparameter tuning to find the best learning rate.\n",
        "\n",
        "By testing different learning rates, you will identify the optimal rate that provides the best test accuracy. This fine-tuning is crucial for enhancing model performance .\n",
        "1. Define Learning Rates:\n",
        "   - Choose these learning rates to test ,[0.01, 0.05, 0.1]\n",
        "\n",
        "2. Reinitialize the Model for Each Learning Rate:\n",
        "  - For each learning rate, you’ll need to reinitialize the model and optimizer e.g.(`torch.optim.SGD(model.parameters(), lr=lr)`).\n",
        "   - Each new learning rate requires reinitializing the model since the optimizer and its parameters are linked to the learning rate.\n",
        "\n",
        "3. Train the Model for Each Learning Rate:\n",
        "  - Train the model for a fixed number of epochs (e.g., 50 or 100 epochs) for each learning rate, and compute the accuracy on the test set.\n",
        "  - Track the test accuracy for each learning rate and identify which one yields the best performance.\n",
        "\n",
        "4. Evaluate and Compare:\n",
        "  - After training with each learning rate, compare the test accuracy for each configuration.\n",
        "   - Report the learning rate that gives the highest test accuracy\n",
        "\n",
        "#### Exercise 7:\n",
        "\n",
        "Perform hyperparameter tuning to find the best learning rate. Retrain the model for each learning rate and evaluate its performance to identify the optimal rate."
      ],
      "metadata": {
        "id": "nwu4My3vll7N"
      }
    },
    {
      "cell_type": "markdown",
      "source": [
        "### Step 8: Feature Importance\n",
        "\n",
        "#### Task 8: Evaluate feature importance to understand the impact of each feature on the prediction.\n",
        "\n",
        "The code to evaluate feature importance to understand the impact of each feature on the prediction.\n",
        "\n",
        " 1.Extracting Model Weights:\n",
        "  - The weights of the logistic regression model represent the importance of each feature in making predictions. These weights are stored in the model's linear layer (`model.linear.weight`).\n",
        " - You can extract the weights using `model.linear.weight.data.numpy()` and flatten the resulting tensor to get a 1D array of feature importances.\n",
        "\n",
        "2.Creating a DataFrame:\n",
        " - Create a pandas DataFrame with two columns: one for the feature names and the other for their corresponding importance values (i.e., the learned weights).\n",
        " - Ensure the features are aligned with their names in your dataset (e.g., `X_train.columns).\n",
        "\n",
        "3. Sorting and Plotting Feature Importance:\n",
        "  - Sort the features based on the absolute value of their importance (weights) to identify the most impactful features.\n",
        "  - Use a bar plot (via `matplotlib`) to visualize the sorted feature importances, with the feature names on the y-axis and importance values on the x-axis.\n",
        "\n",
        "4. Interpreting the Results:\n",
        "  - Larger absolute weights indicate more influential features. Positive weights suggest a positive correlation with the outcome (likely to predict the positive class), while negative weights suggest the opposite.\n",
        "\n",
        "#### Exercise 8:\n",
        "\n",
        "Evaluate feature importance by extracting the weights of the linear layer and creating a DataFrame to display the importance of each feature. Visualize the feature importance using a bar plot."
      ],
      "metadata": {
        "id": "Alx-5Rfglo9P"
      }
    },
    {
      "cell_type": "code",
      "source": [
        "#Use the following code to extract the weight and create dataframe\n",
        "#Change the name of variables per your code\n",
        "\n",
        "# Extract the weights of the linear layer:\n",
        "# weights = model.linear.weight.data.numpy().flatten()\n",
        "# features = X.columns\n",
        "# Create a DataFrame for feature importance:\n",
        "# feature_importance = pd.DataFrame({'Feature': features, 'Importance': weights})\n",
        "# feature_importance = feature_importance.sort_values(by='Importance', ascending=False)\n",
        "# print(feature_importance)\n",
        "# Plot feature importance plt.figure(figsize=(10, 6))\n",
        "# plt.bar(feature_importance['Feature'], feature_importance['Importance'])\n",
        "# plt.xlabel('Features')\n",
        "# plt.ylabel('Importance')\n",
        "# plt.title('Feature Importance')\n",
        "# plt.xticks(rotation=45)\n",
        "# plt.show()"
      ],
      "metadata": {
        "id": "5keDOQSgltcI"
      },
      "execution_count": 3,
      "outputs": []
    },
    {
      "cell_type": "markdown",
      "source": [
        "# TASK 1\n",
        "Load the League of Legends dataset and preprocess it for training. Take a screenshot of the code and submit it."
      ],
      "metadata": {
        "id": "Ed5OlBj7lqT9"
      }
    },
    {
      "cell_type": "code",
      "source": [
        "import pandas as pd\n",
        "import torch\n",
        "import torch.nn as nn\n",
        "import torch.optim as optim\n",
        "from sklearn.model_selection import train_test_split\n",
        "from sklearn.preprocessing import StandardScaler"
      ],
      "metadata": {
        "id": "HHRqJnIOu5vL"
      },
      "execution_count": 4,
      "outputs": []
    },
    {
      "cell_type": "code",
      "source": [
        "data = pd.read_csv(\"league_of_legends_data_large.csv\")\n",
        "data.head()"
      ],
      "metadata": {
        "colab": {
          "base_uri": "https://localhost:8080/",
          "height": 206
        },
        "id": "hPo7l-10u1Cu",
        "outputId": "dcf682a8-a371-41a5-8bae-4249f0fd26ee"
      },
      "execution_count": 5,
      "outputs": [
        {
          "output_type": "execute_result",
          "data": {
            "text/plain": [
              "   win  kills  deaths  assists  gold_earned   cs  wards_placed  wards_killed  \\\n",
              "0    0     16       6       19        17088  231            11             7   \n",
              "1    1      8       8        5        14865  259            10             2   \n",
              "2    0      0      17       11        15919  169            14             5   \n",
              "3    0     19      11        1        11534  264            14             3   \n",
              "4    0     12       7        6        18926  124            15             7   \n",
              "\n",
              "   damage_dealt  \n",
              "0         15367  \n",
              "1         38332  \n",
              "2         24642  \n",
              "3         15789  \n",
              "4         40268  "
            ],
            "text/html": [
              "\n",
              "  <div id=\"df-8dc9902d-907e-43b0-8b92-bc2d6b4cf1a2\" class=\"colab-df-container\">\n",
              "    <div>\n",
              "<style scoped>\n",
              "    .dataframe tbody tr th:only-of-type {\n",
              "        vertical-align: middle;\n",
              "    }\n",
              "\n",
              "    .dataframe tbody tr th {\n",
              "        vertical-align: top;\n",
              "    }\n",
              "\n",
              "    .dataframe thead th {\n",
              "        text-align: right;\n",
              "    }\n",
              "</style>\n",
              "<table border=\"1\" class=\"dataframe\">\n",
              "  <thead>\n",
              "    <tr style=\"text-align: right;\">\n",
              "      <th></th>\n",
              "      <th>win</th>\n",
              "      <th>kills</th>\n",
              "      <th>deaths</th>\n",
              "      <th>assists</th>\n",
              "      <th>gold_earned</th>\n",
              "      <th>cs</th>\n",
              "      <th>wards_placed</th>\n",
              "      <th>wards_killed</th>\n",
              "      <th>damage_dealt</th>\n",
              "    </tr>\n",
              "  </thead>\n",
              "  <tbody>\n",
              "    <tr>\n",
              "      <th>0</th>\n",
              "      <td>0</td>\n",
              "      <td>16</td>\n",
              "      <td>6</td>\n",
              "      <td>19</td>\n",
              "      <td>17088</td>\n",
              "      <td>231</td>\n",
              "      <td>11</td>\n",
              "      <td>7</td>\n",
              "      <td>15367</td>\n",
              "    </tr>\n",
              "    <tr>\n",
              "      <th>1</th>\n",
              "      <td>1</td>\n",
              "      <td>8</td>\n",
              "      <td>8</td>\n",
              "      <td>5</td>\n",
              "      <td>14865</td>\n",
              "      <td>259</td>\n",
              "      <td>10</td>\n",
              "      <td>2</td>\n",
              "      <td>38332</td>\n",
              "    </tr>\n",
              "    <tr>\n",
              "      <th>2</th>\n",
              "      <td>0</td>\n",
              "      <td>0</td>\n",
              "      <td>17</td>\n",
              "      <td>11</td>\n",
              "      <td>15919</td>\n",
              "      <td>169</td>\n",
              "      <td>14</td>\n",
              "      <td>5</td>\n",
              "      <td>24642</td>\n",
              "    </tr>\n",
              "    <tr>\n",
              "      <th>3</th>\n",
              "      <td>0</td>\n",
              "      <td>19</td>\n",
              "      <td>11</td>\n",
              "      <td>1</td>\n",
              "      <td>11534</td>\n",
              "      <td>264</td>\n",
              "      <td>14</td>\n",
              "      <td>3</td>\n",
              "      <td>15789</td>\n",
              "    </tr>\n",
              "    <tr>\n",
              "      <th>4</th>\n",
              "      <td>0</td>\n",
              "      <td>12</td>\n",
              "      <td>7</td>\n",
              "      <td>6</td>\n",
              "      <td>18926</td>\n",
              "      <td>124</td>\n",
              "      <td>15</td>\n",
              "      <td>7</td>\n",
              "      <td>40268</td>\n",
              "    </tr>\n",
              "  </tbody>\n",
              "</table>\n",
              "</div>\n",
              "    <div class=\"colab-df-buttons\">\n",
              "\n",
              "  <div class=\"colab-df-container\">\n",
              "    <button class=\"colab-df-convert\" onclick=\"convertToInteractive('df-8dc9902d-907e-43b0-8b92-bc2d6b4cf1a2')\"\n",
              "            title=\"Convert this dataframe to an interactive table.\"\n",
              "            style=\"display:none;\">\n",
              "\n",
              "  <svg xmlns=\"http://www.w3.org/2000/svg\" height=\"24px\" viewBox=\"0 -960 960 960\">\n",
              "    <path d=\"M120-120v-720h720v720H120Zm60-500h600v-160H180v160Zm220 220h160v-160H400v160Zm0 220h160v-160H400v160ZM180-400h160v-160H180v160Zm440 0h160v-160H620v160ZM180-180h160v-160H180v160Zm440 0h160v-160H620v160Z\"/>\n",
              "  </svg>\n",
              "    </button>\n",
              "\n",
              "  <style>\n",
              "    .colab-df-container {\n",
              "      display:flex;\n",
              "      gap: 12px;\n",
              "    }\n",
              "\n",
              "    .colab-df-convert {\n",
              "      background-color: #E8F0FE;\n",
              "      border: none;\n",
              "      border-radius: 50%;\n",
              "      cursor: pointer;\n",
              "      display: none;\n",
              "      fill: #1967D2;\n",
              "      height: 32px;\n",
              "      padding: 0 0 0 0;\n",
              "      width: 32px;\n",
              "    }\n",
              "\n",
              "    .colab-df-convert:hover {\n",
              "      background-color: #E2EBFA;\n",
              "      box-shadow: 0px 1px 2px rgba(60, 64, 67, 0.3), 0px 1px 3px 1px rgba(60, 64, 67, 0.15);\n",
              "      fill: #174EA6;\n",
              "    }\n",
              "\n",
              "    .colab-df-buttons div {\n",
              "      margin-bottom: 4px;\n",
              "    }\n",
              "\n",
              "    [theme=dark] .colab-df-convert {\n",
              "      background-color: #3B4455;\n",
              "      fill: #D2E3FC;\n",
              "    }\n",
              "\n",
              "    [theme=dark] .colab-df-convert:hover {\n",
              "      background-color: #434B5C;\n",
              "      box-shadow: 0px 1px 3px 1px rgba(0, 0, 0, 0.15);\n",
              "      filter: drop-shadow(0px 1px 2px rgba(0, 0, 0, 0.3));\n",
              "      fill: #FFFFFF;\n",
              "    }\n",
              "  </style>\n",
              "\n",
              "    <script>\n",
              "      const buttonEl =\n",
              "        document.querySelector('#df-8dc9902d-907e-43b0-8b92-bc2d6b4cf1a2 button.colab-df-convert');\n",
              "      buttonEl.style.display =\n",
              "        google.colab.kernel.accessAllowed ? 'block' : 'none';\n",
              "\n",
              "      async function convertToInteractive(key) {\n",
              "        const element = document.querySelector('#df-8dc9902d-907e-43b0-8b92-bc2d6b4cf1a2');\n",
              "        const dataTable =\n",
              "          await google.colab.kernel.invokeFunction('convertToInteractive',\n",
              "                                                    [key], {});\n",
              "        if (!dataTable) return;\n",
              "\n",
              "        const docLinkHtml = 'Like what you see? Visit the ' +\n",
              "          '<a target=\"_blank\" href=https://colab.research.google.com/notebooks/data_table.ipynb>data table notebook</a>'\n",
              "          + ' to learn more about interactive tables.';\n",
              "        element.innerHTML = '';\n",
              "        dataTable['output_type'] = 'display_data';\n",
              "        await google.colab.output.renderOutput(dataTable, element);\n",
              "        const docLink = document.createElement('div');\n",
              "        docLink.innerHTML = docLinkHtml;\n",
              "        element.appendChild(docLink);\n",
              "      }\n",
              "    </script>\n",
              "  </div>\n",
              "\n",
              "\n",
              "    <div id=\"df-d42a6d5c-3683-4a7b-aacb-315e1fd675d6\">\n",
              "      <button class=\"colab-df-quickchart\" onclick=\"quickchart('df-d42a6d5c-3683-4a7b-aacb-315e1fd675d6')\"\n",
              "                title=\"Suggest charts\"\n",
              "                style=\"display:none;\">\n",
              "\n",
              "<svg xmlns=\"http://www.w3.org/2000/svg\" height=\"24px\"viewBox=\"0 0 24 24\"\n",
              "     width=\"24px\">\n",
              "    <g>\n",
              "        <path d=\"M19 3H5c-1.1 0-2 .9-2 2v14c0 1.1.9 2 2 2h14c1.1 0 2-.9 2-2V5c0-1.1-.9-2-2-2zM9 17H7v-7h2v7zm4 0h-2V7h2v10zm4 0h-2v-4h2v4z\"/>\n",
              "    </g>\n",
              "</svg>\n",
              "      </button>\n",
              "\n",
              "<style>\n",
              "  .colab-df-quickchart {\n",
              "      --bg-color: #E8F0FE;\n",
              "      --fill-color: #1967D2;\n",
              "      --hover-bg-color: #E2EBFA;\n",
              "      --hover-fill-color: #174EA6;\n",
              "      --disabled-fill-color: #AAA;\n",
              "      --disabled-bg-color: #DDD;\n",
              "  }\n",
              "\n",
              "  [theme=dark] .colab-df-quickchart {\n",
              "      --bg-color: #3B4455;\n",
              "      --fill-color: #D2E3FC;\n",
              "      --hover-bg-color: #434B5C;\n",
              "      --hover-fill-color: #FFFFFF;\n",
              "      --disabled-bg-color: #3B4455;\n",
              "      --disabled-fill-color: #666;\n",
              "  }\n",
              "\n",
              "  .colab-df-quickchart {\n",
              "    background-color: var(--bg-color);\n",
              "    border: none;\n",
              "    border-radius: 50%;\n",
              "    cursor: pointer;\n",
              "    display: none;\n",
              "    fill: var(--fill-color);\n",
              "    height: 32px;\n",
              "    padding: 0;\n",
              "    width: 32px;\n",
              "  }\n",
              "\n",
              "  .colab-df-quickchart:hover {\n",
              "    background-color: var(--hover-bg-color);\n",
              "    box-shadow: 0 1px 2px rgba(60, 64, 67, 0.3), 0 1px 3px 1px rgba(60, 64, 67, 0.15);\n",
              "    fill: var(--button-hover-fill-color);\n",
              "  }\n",
              "\n",
              "  .colab-df-quickchart-complete:disabled,\n",
              "  .colab-df-quickchart-complete:disabled:hover {\n",
              "    background-color: var(--disabled-bg-color);\n",
              "    fill: var(--disabled-fill-color);\n",
              "    box-shadow: none;\n",
              "  }\n",
              "\n",
              "  .colab-df-spinner {\n",
              "    border: 2px solid var(--fill-color);\n",
              "    border-color: transparent;\n",
              "    border-bottom-color: var(--fill-color);\n",
              "    animation:\n",
              "      spin 1s steps(1) infinite;\n",
              "  }\n",
              "\n",
              "  @keyframes spin {\n",
              "    0% {\n",
              "      border-color: transparent;\n",
              "      border-bottom-color: var(--fill-color);\n",
              "      border-left-color: var(--fill-color);\n",
              "    }\n",
              "    20% {\n",
              "      border-color: transparent;\n",
              "      border-left-color: var(--fill-color);\n",
              "      border-top-color: var(--fill-color);\n",
              "    }\n",
              "    30% {\n",
              "      border-color: transparent;\n",
              "      border-left-color: var(--fill-color);\n",
              "      border-top-color: var(--fill-color);\n",
              "      border-right-color: var(--fill-color);\n",
              "    }\n",
              "    40% {\n",
              "      border-color: transparent;\n",
              "      border-right-color: var(--fill-color);\n",
              "      border-top-color: var(--fill-color);\n",
              "    }\n",
              "    60% {\n",
              "      border-color: transparent;\n",
              "      border-right-color: var(--fill-color);\n",
              "    }\n",
              "    80% {\n",
              "      border-color: transparent;\n",
              "      border-right-color: var(--fill-color);\n",
              "      border-bottom-color: var(--fill-color);\n",
              "    }\n",
              "    90% {\n",
              "      border-color: transparent;\n",
              "      border-bottom-color: var(--fill-color);\n",
              "    }\n",
              "  }\n",
              "</style>\n",
              "\n",
              "      <script>\n",
              "        async function quickchart(key) {\n",
              "          const quickchartButtonEl =\n",
              "            document.querySelector('#' + key + ' button');\n",
              "          quickchartButtonEl.disabled = true;  // To prevent multiple clicks.\n",
              "          quickchartButtonEl.classList.add('colab-df-spinner');\n",
              "          try {\n",
              "            const charts = await google.colab.kernel.invokeFunction(\n",
              "                'suggestCharts', [key], {});\n",
              "          } catch (error) {\n",
              "            console.error('Error during call to suggestCharts:', error);\n",
              "          }\n",
              "          quickchartButtonEl.classList.remove('colab-df-spinner');\n",
              "          quickchartButtonEl.classList.add('colab-df-quickchart-complete');\n",
              "        }\n",
              "        (() => {\n",
              "          let quickchartButtonEl =\n",
              "            document.querySelector('#df-d42a6d5c-3683-4a7b-aacb-315e1fd675d6 button');\n",
              "          quickchartButtonEl.style.display =\n",
              "            google.colab.kernel.accessAllowed ? 'block' : 'none';\n",
              "        })();\n",
              "      </script>\n",
              "    </div>\n",
              "\n",
              "    </div>\n",
              "  </div>\n"
            ],
            "application/vnd.google.colaboratory.intrinsic+json": {
              "type": "dataframe",
              "variable_name": "data",
              "summary": "{\n  \"name\": \"data\",\n  \"rows\": 1000,\n  \"fields\": [\n    {\n      \"column\": \"win\",\n      \"properties\": {\n        \"dtype\": \"number\",\n        \"std\": 0,\n        \"min\": 0,\n        \"max\": 1,\n        \"num_unique_values\": 2,\n        \"samples\": [\n          1,\n          0\n        ],\n        \"semantic_type\": \"\",\n        \"description\": \"\"\n      }\n    },\n    {\n      \"column\": \"kills\",\n      \"properties\": {\n        \"dtype\": \"number\",\n        \"std\": 5,\n        \"min\": 0,\n        \"max\": 19,\n        \"num_unique_values\": 20,\n        \"samples\": [\n          16,\n          7\n        ],\n        \"semantic_type\": \"\",\n        \"description\": \"\"\n      }\n    },\n    {\n      \"column\": \"deaths\",\n      \"properties\": {\n        \"dtype\": \"number\",\n        \"std\": 5,\n        \"min\": 0,\n        \"max\": 19,\n        \"num_unique_values\": 20,\n        \"samples\": [\n          6,\n          0\n        ],\n        \"semantic_type\": \"\",\n        \"description\": \"\"\n      }\n    },\n    {\n      \"column\": \"assists\",\n      \"properties\": {\n        \"dtype\": \"number\",\n        \"std\": 5,\n        \"min\": 0,\n        \"max\": 19,\n        \"num_unique_values\": 20,\n        \"samples\": [\n          19,\n          14\n        ],\n        \"semantic_type\": \"\",\n        \"description\": \"\"\n      }\n    },\n    {\n      \"column\": \"gold_earned\",\n      \"properties\": {\n        \"dtype\": \"number\",\n        \"std\": 4388,\n        \"min\": 5002,\n        \"max\": 19955,\n        \"num_unique_values\": 963,\n        \"samples\": [\n          12024,\n          17905\n        ],\n        \"semantic_type\": \"\",\n        \"description\": \"\"\n      }\n    },\n    {\n      \"column\": \"cs\",\n      \"properties\": {\n        \"dtype\": \"number\",\n        \"std\": 72,\n        \"min\": 50,\n        \"max\": 299,\n        \"num_unique_values\": 244,\n        \"samples\": [\n          263,\n          221\n        ],\n        \"semantic_type\": \"\",\n        \"description\": \"\"\n      }\n    },\n    {\n      \"column\": \"wards_placed\",\n      \"properties\": {\n        \"dtype\": \"number\",\n        \"std\": 5,\n        \"min\": 0,\n        \"max\": 19,\n        \"num_unique_values\": 20,\n        \"samples\": [\n          11,\n          17\n        ],\n        \"semantic_type\": \"\",\n        \"description\": \"\"\n      }\n    },\n    {\n      \"column\": \"wards_killed\",\n      \"properties\": {\n        \"dtype\": \"number\",\n        \"std\": 2,\n        \"min\": 0,\n        \"max\": 9,\n        \"num_unique_values\": 10,\n        \"samples\": [\n          1,\n          2\n        ],\n        \"semantic_type\": \"\",\n        \"description\": \"\"\n      }\n    },\n    {\n      \"column\": \"damage_dealt\",\n      \"properties\": {\n        \"dtype\": \"number\",\n        \"std\": 13221,\n        \"min\": 5028,\n        \"max\": 49927,\n        \"num_unique_values\": 993,\n        \"samples\": [\n          40281,\n          43411\n        ],\n        \"semantic_type\": \"\",\n        \"description\": \"\"\n      }\n    }\n  ]\n}"
            }
          },
          "metadata": {},
          "execution_count": 5
        }
      ]
    },
    {
      "cell_type": "code",
      "source": [
        "X = data.drop(\"win\", axis=1)\n",
        "y = data[\"win\"]"
      ],
      "metadata": {
        "id": "l0BqKfZlviWy"
      },
      "execution_count": 6,
      "outputs": []
    },
    {
      "cell_type": "code",
      "source": [
        "# Split into training and testing sets\n",
        "X_train, X_test, y_train, y_test = train_test_split(X, y, test_size=0.2, random_state=42, stratify=y)"
      ],
      "metadata": {
        "id": "nx_TPPSEvkyF"
      },
      "execution_count": 7,
      "outputs": []
    },
    {
      "cell_type": "code",
      "source": [
        "# Standardize the features\n",
        "scaler = StandardScaler()\n",
        "X_train = scaler.fit_transform(X_train)\n",
        "X_test = scaler.transform(X_test)"
      ],
      "metadata": {
        "id": "4-_H3S7DeP8s"
      },
      "execution_count": 8,
      "outputs": []
    },
    {
      "cell_type": "code",
      "source": [
        "# Convert to PyTorch tensors\n",
        "X_train_tensor = torch.tensor(X_train, dtype=torch.float32)\n",
        "X_test_tensor = torch.tensor(X_test, dtype=torch.float32)\n",
        "y_train_tensor = torch.tensor(y_train.values, dtype=torch.float32).unsqueeze(1)\n",
        "y_test_tensor = torch.tensor(y_test.values, dtype=torch.float32).unsqueeze(1)"
      ],
      "metadata": {
        "id": "6Y749y5WeR36"
      },
      "execution_count": 9,
      "outputs": []
    },
    {
      "cell_type": "code",
      "source": [
        "print(\"Task 1 Completed!\")"
      ],
      "metadata": {
        "colab": {
          "base_uri": "https://localhost:8080/"
        },
        "id": "iQKXorWLeT6N",
        "outputId": "62a76f67-b2f0-4b79-8c12-62a17b761d4b"
      },
      "execution_count": 10,
      "outputs": [
        {
          "output_type": "stream",
          "name": "stdout",
          "text": [
            "Task 1 Completed!\n"
          ]
        }
      ]
    },
    {
      "cell_type": "markdown",
      "source": [
        "# Step 2: Logistic Regression Model"
      ],
      "metadata": {
        "id": "jqtlXCP-fLTF"
      }
    },
    {
      "cell_type": "markdown",
      "source": [
        "Task 2: Implement a logistic regression model using PyTorch.\n",
        "Defining the logistic regression model involves specifying the input dimensions, the forward pass using the sigmoid activation function, and initializing the model, loss function, and optimizer.\n",
        "\n",
        "1 .Define the Logistic Regression Model: Create a class LogisticRegressionModel that inherits from torch.nn.Module.\n",
        "\n",
        "* In the __init__() method, define a linear layer (nn.Linear) to implement the logistic regression model.\n",
        "* The forward() method should apply the sigmoid activation function to the output of the linear layer.\n",
        "\n",
        "2.Initialize the Model, Loss Function, and Optimizer:\n",
        "\n",
        "* Set input_dim: Use X_train.shape[1] to get the number of features from the training data (X_train).\n",
        "* Initialize the model: Create an instance of the LogisticRegressionModel class (e.g., model = LogisticRegressionModel())while passing input_dim as a parameter\n",
        "* Loss Function: Use BCELoss() from torch.nn (Binary Cross-Entropy Loss).\n",
        "* Optimizer: Initialize the optimizer using optim.SGD() with a learning rate of 0.01"
      ],
      "metadata": {
        "id": "-BRdYRfQfOm0"
      }
    },
    {
      "cell_type": "markdown",
      "source": [
        "Define the logistic regression model using PyTorch, specifying the input dimensions and the forward pass. Initialize the model, loss function, and optimizer."
      ],
      "metadata": {
        "id": "VB_EUum2feLu"
      }
    },
    {
      "cell_type": "code",
      "source": [
        "import torch.nn as nn\n",
        "import torch.optim as optim"
      ],
      "metadata": {
        "id": "d4OOJdsIfejY"
      },
      "execution_count": 11,
      "outputs": []
    },
    {
      "cell_type": "code",
      "source": [
        "class LogisticRegressionModel(nn.Module):\n",
        "    def __init__(self, input_dim):\n",
        "        super(LogisticRegressionModel, self).__init__()\n",
        "        self.linear = nn.Linear(input_dim, 1)\n",
        "\n",
        "    def forward(self, x):\n",
        "        return torch.sigmoid(self.linear(x))"
      ],
      "metadata": {
        "id": "2cHfh5anfg0w"
      },
      "execution_count": 12,
      "outputs": []
    },
    {
      "cell_type": "code",
      "source": [
        "# Initialize the model, loss function, and optimizer\n",
        "input_dim = X_train_tensor.shape[1]\n",
        "model = LogisticRegressionModel(input_dim)\n",
        "criterion = nn.BCELoss()\n",
        "optimizer = optim.SGD(model.parameters(), lr=0.01)"
      ],
      "metadata": {
        "id": "l5oynvxZfinq"
      },
      "execution_count": 13,
      "outputs": []
    },
    {
      "cell_type": "code",
      "source": [
        "print(\"Task 2 Completed!\")"
      ],
      "metadata": {
        "colab": {
          "base_uri": "https://localhost:8080/"
        },
        "id": "c6jghFsqftLo",
        "outputId": "56f75951-f910-45f8-8977-6c6385ce866d"
      },
      "execution_count": 14,
      "outputs": [
        {
          "output_type": "stream",
          "name": "stdout",
          "text": [
            "Task 2 Completed!\n"
          ]
        }
      ]
    },
    {
      "cell_type": "markdown",
      "source": [
        "# Step 3: Model Training\n",
        "Task 3: Train the logistic regression model on the dataset."
      ],
      "metadata": {
        "id": "SIjw1ZnCgfYl"
      }
    },
    {
      "cell_type": "markdown",
      "source": [
        "The training loop will run for a specified number of epochs. In each epoch, the model makes predictions, calculates the loss, performs backpropagation, and updates the model parameters.\n",
        "\n",
        "1. Set Number of Epochs:\n",
        "\n",
        "* Define the number of epochs for training to 1000.\n",
        "\n",
        "2. Training Loop:\n",
        "For each epoch:\n",
        "\n",
        "* Set the model to training mode using model.train().\n",
        "* Zero the gradients using optimizer.zero_grad().\n",
        "* Pass the training data (X_train) through the model to get the predictions (outputs).\n",
        "* Calculate the loss using the defined loss function (criterion).\n",
        "* Perform backpropagation with loss.backward().\n",
        "* Update the model's weights using optimizer.step().\n",
        "\n",
        "3. Print Loss Every 100 Epochs:\n",
        "\n",
        "* After every 100 epochs, print the current epoch number and the loss value.\n",
        "\n",
        "4. Model Evaluation:\n",
        "\n",
        "* Set the model to evaluation mode using model.eval().\n",
        "* Use torch.no_grad() to ensure no gradients are calculated during evaluation.\n",
        "* Get predictions on both the training set (X_train) and the test set (X_test).\n",
        "\n",
        "5. Calculate Accuracy:\n",
        "\n",
        "* For both the training and test datasets, compute the accuracy by comparing the predicted values with the true values (y_train, y_test).\n",
        "* Use a threshold of 0.5 for classification\n",
        "\n",
        "6. Print Accuracy:\n",
        "\n",
        "* Print the training and test accuracies after the evaluation is complete."
      ],
      "metadata": {
        "id": "r2agA84hgg9O"
      }
    },
    {
      "cell_type": "code",
      "source": [
        "epochs = 1000\n",
        "# Training loop\n",
        "for epoch in range(epochs):\n",
        "    model.train()\n",
        "    optimizer.zero_grad()  # Zero the gradients\n",
        "\n",
        "    # Forward pass: Get predictions\n",
        "    predictions = model(X_train_tensor)\n",
        "\n",
        "    # Compute the loss\n",
        "    loss = criterion(predictions, y_train_tensor)\n",
        "\n",
        "    # Backward pass: Perform backpropagation\n",
        "    loss.backward()\n",
        "\n",
        "    # Update the weights\n",
        "    optimizer.step()\n",
        "\n",
        "    # Print the loss every 100 epochs\n",
        "    if (epoch + 1) % 100 == 0:\n",
        "        print(f\"Epoch {epoch+1}/{epochs}, Loss: {loss.item():.4f}\")"
      ],
      "metadata": {
        "colab": {
          "base_uri": "https://localhost:8080/"
        },
        "id": "2LcVh9M7hFfh",
        "outputId": "a559d647-273a-4d22-97da-503e55ea18e9"
      },
      "execution_count": 15,
      "outputs": [
        {
          "output_type": "stream",
          "name": "stdout",
          "text": [
            "Epoch 100/1000, Loss: 0.7114\n",
            "Epoch 200/1000, Loss: 0.7033\n",
            "Epoch 300/1000, Loss: 0.6983\n",
            "Epoch 400/1000, Loss: 0.6952\n",
            "Epoch 500/1000, Loss: 0.6933\n",
            "Epoch 600/1000, Loss: 0.6922\n",
            "Epoch 700/1000, Loss: 0.6915\n",
            "Epoch 800/1000, Loss: 0.6910\n",
            "Epoch 900/1000, Loss: 0.6908\n",
            "Epoch 1000/1000, Loss: 0.6906\n"
          ]
        }
      ]
    },
    {
      "cell_type": "code",
      "source": [
        "# Model evaluation\n",
        "model.eval()\n",
        "with torch.no_grad():  # No gradients during evaluation\n",
        "\n",
        "    # Get predictions on the training set\n",
        "    train_predictions = model(X_train_tensor)\n",
        "    train_predictions = (train_predictions >= 0.5).float()\n",
        "\n",
        "    # Get predictions on the test set\n",
        "    test_predictions = model(X_test_tensor)\n",
        "    test_predictions = (test_predictions >= 0.5).float()\n",
        "\n",
        "    # Calculate training accuracy\n",
        "    train_accuracy = (train_predictions == y_train_tensor).float().mean().item()\n",
        "\n",
        "    # Calculate test accuracy\n",
        "    test_accuracy = (test_predictions == y_test_tensor).float().mean().item()"
      ],
      "metadata": {
        "id": "7-VjL3TrhH5z"
      },
      "execution_count": 16,
      "outputs": []
    },
    {
      "cell_type": "code",
      "source": [
        "# Print accuracies\n",
        "print(\"Training Accuracy: \", train_accuracy)\n",
        "print(\"Testing Accuracy: \",test_accuracy)"
      ],
      "metadata": {
        "colab": {
          "base_uri": "https://localhost:8080/"
        },
        "id": "ldr_jzrUhJvL",
        "outputId": "41c799e7-5086-4b75-d207-1b88c3b8e060"
      },
      "execution_count": 17,
      "outputs": [
        {
          "output_type": "stream",
          "name": "stdout",
          "text": [
            "Training Accuracy:  0.5387499928474426\n",
            "Testing Accuracy:  0.5099999904632568\n"
          ]
        }
      ]
    },
    {
      "cell_type": "code",
      "source": [
        "print(\"Task 3 Completed!\")"
      ],
      "metadata": {
        "colab": {
          "base_uri": "https://localhost:8080/"
        },
        "id": "HSGcio49hLZ5",
        "outputId": "4c039c67-848b-4a38-d840-06676db5a9b1"
      },
      "execution_count": 18,
      "outputs": [
        {
          "output_type": "stream",
          "name": "stdout",
          "text": [
            "Task 3 Completed!\n"
          ]
        }
      ]
    },
    {
      "cell_type": "markdown",
      "source": [
        "# Step 4: Model Optimization and Evaluation"
      ],
      "metadata": {
        "id": "I6HrMcIIyR85"
      }
    },
    {
      "cell_type": "markdown",
      "source": [
        "\n",
        "## Task 4: Implement optimization techniques and evaluate the model's performance.\n",
        "\n",
        "\n",
        "Optimization techniques such as L2 regularization (Ridge Regression) help in preventing overfitting. The model is retrained with these optimizations, and its performance is evaluated on both training and testing sets.\n",
        "\n",
        "\n",
        "**Weight Decay :**In the context of machine learning and specifically in optimization algorithms, weight_decay is a parameter used to apply L2 regularization to the model's parameters (weights). It helps prevent the model from overfitting by penalizing large weight values, thereby encouraging the model to find simpler solutions.To use L2 regularization, you need to modify the optimizer by setting the weight_decay parameter. The weight_decay parameter in the optimizer adds the L2 regularization term during training. For example, when you initialize the optimizer with optim.SGD(model.parameters(), lr=0.01, weight_decay=0.01), the weight_decay=0.01 term applies L2 regularization with a strength of 0.01.\n",
        "\n",
        "1. Set Up the Optimizer with L2 Regularization:\n",
        "\n",
        "* Modify the optimizer to include weight_decay for L2 regularization.\n",
        "* Example:\n",
        "optimizer = optim.SGD(model.parameters(), lr=0.01, weight_decay=0.01)\n",
        "\n",
        "2. Train the Model with L2 Regularization:\n",
        "\n",
        "* Follow the same steps as before but use the updated optimizer with regularization during training.\n",
        "* Use epochs=1000\n",
        "\n",
        "3. Evaluate the Optimized Model:\n",
        "\n",
        "* After training, evaluate the model on both the training and test datasets.\n",
        "* Compute the accuracy for both sets by comparing the model's predictions to the true labels (y_train and y_test).\n",
        "\n",
        "4. Calculate and Print the Accuracy:\n",
        "\n",
        "* Use a threshold of 0.5 to determine whether the model's predictions are class 0 or class 1.\n",
        "* Print the training accuracy and test accuracy after evaluation.\n",
        "* Exercise 4:\n",
        "Implement optimization techniques like L2 regularization and retrain the model. Evaluate the performance of the optimized model on both training and testing sets."
      ],
      "metadata": {
        "id": "RWmUfKeTyQHm"
      }
    },
    {
      "cell_type": "code",
      "source": [
        "# Modify the optimizer to include L2 regularization (weight_decay)\n",
        "l2_weight_decay = 0.01\n",
        "optimizer = optim.SGD(model.parameters(), lr=0.01, weight_decay=l2_weight_decay)"
      ],
      "metadata": {
        "id": "NYycbZECza6m"
      },
      "execution_count": 19,
      "outputs": []
    },
    {
      "cell_type": "code",
      "source": [
        "# Set the number of epochs\n",
        "epochs = 1000\n",
        "\n",
        "# Training loop with L2 regularization\n",
        "for epoch in range(epochs):\n",
        "    model.train()\n",
        "    optimizer.zero_grad()  # Zero the gradients\n",
        "\n",
        "    # Forward pass: Get predictions\n",
        "    predictions = model(X_train_tensor)\n",
        "\n",
        "    # Compute the loss\n",
        "    loss = criterion(predictions, y_train_tensor)\n",
        "\n",
        "    # Backward pass: Perform backpropagation\n",
        "    loss.backward()\n",
        "\n",
        "    # Update the weights\n",
        "    optimizer.step()\n",
        "\n",
        "    # Print the loss every 100 epochs\n",
        "    if (epoch + 1) % 100 == 0:\n",
        "        print(f\"Epoch {epoch+1}/{epochs}, Loss: {loss.item():.4f}\")"
      ],
      "metadata": {
        "colab": {
          "base_uri": "https://localhost:8080/"
        },
        "id": "YkBMKtwAze4_",
        "outputId": "13cc5cb7-f25a-4e8e-85e3-02fcc7604277"
      },
      "execution_count": 20,
      "outputs": [
        {
          "output_type": "stream",
          "name": "stdout",
          "text": [
            "Epoch 100/1000, Loss: 0.6905\n",
            "Epoch 200/1000, Loss: 0.6904\n",
            "Epoch 300/1000, Loss: 0.6904\n",
            "Epoch 400/1000, Loss: 0.6903\n",
            "Epoch 500/1000, Loss: 0.6903\n",
            "Epoch 600/1000, Loss: 0.6903\n",
            "Epoch 700/1000, Loss: 0.6903\n",
            "Epoch 800/1000, Loss: 0.6903\n",
            "Epoch 900/1000, Loss: 0.6903\n",
            "Epoch 1000/1000, Loss: 0.6903\n"
          ]
        }
      ]
    },
    {
      "cell_type": "code",
      "source": [
        "# Evaluate the optimized model\n",
        "model.eval()\n",
        "with torch.no_grad():  # No gradients during evaluation\n",
        "\n",
        "    # Get predictions on the training set\n",
        "    train_predictions = model(X_train_tensor)\n",
        "    train_predictions = (train_predictions >= 0.5).float()\n",
        "\n",
        "    # Get predictions on the test set\n",
        "    test_predictions = model(X_test_tensor)\n",
        "    test_predictions = (test_predictions >= 0.5).float()\n",
        "\n",
        "    # Calculate training accuracy\n",
        "    train_accuracy = (train_predictions == y_train_tensor).float().mean().item()\n",
        "\n",
        "    # Calculate test accuracy\n",
        "    test_accuracy = (test_predictions == y_test_tensor).float().mean().item()"
      ],
      "metadata": {
        "id": "m85eeVgYzjLo"
      },
      "execution_count": 21,
      "outputs": []
    },
    {
      "cell_type": "code",
      "source": [
        "# Print accuracies\n",
        "print(\"Training Accuracy with L2 Regularization: \",train_accuracy)\n",
        "print(\"Testing Accuracy with L2 Regularization: \",test_accuracy)"
      ],
      "metadata": {
        "colab": {
          "base_uri": "https://localhost:8080/"
        },
        "id": "1N28s99hzl0B",
        "outputId": "9d85da14-3da8-457c-dff6-3c9b52b10e07"
      },
      "execution_count": 22,
      "outputs": [
        {
          "output_type": "stream",
          "name": "stdout",
          "text": [
            "Training Accuracy with L2 Regularization:  0.5199999809265137\n",
            "Testing Accuracy with L2 Regularization:  0.5450000166893005\n"
          ]
        }
      ]
    },
    {
      "cell_type": "code",
      "source": [
        "print(\"Task 4 Completed!\")"
      ],
      "metadata": {
        "colab": {
          "base_uri": "https://localhost:8080/"
        },
        "id": "ebCptdiYzpAI",
        "outputId": "9588d7e0-0cfe-49b2-c59b-390de44be909"
      },
      "execution_count": 23,
      "outputs": [
        {
          "output_type": "stream",
          "name": "stdout",
          "text": [
            "Task 4 Completed!\n"
          ]
        }
      ]
    },
    {
      "cell_type": "markdown",
      "source": [
        "# Step 5: Visualization and Interpretation\n",
        "\n",
        "Visualization tools like confusion matrices and ROC curves provide insights into the model's performance. The confusion matrix helps in understanding the classification accuracy, while the ROC curve illustrates the trade-off between sensitivity and specificity.\n",
        "\n",
        "Confusion Matrix : A Confusion Matrix is a fundamental tool used in classification problems to evaluate the performance of a model. It provides a matrix showing the number of correct and incorrect predictions made by the model, categorized by the actual and predicted classes. Where\n",
        "\n",
        "* True Positive (TP): Correctly predicted positive class (class 1).\n",
        "* True Negative (TN): Correctly predicted negative class (class 0).\n",
        "* False Positive (FP): Incorrectly predicted as positive (class 1), but the actual class is negative (class 0). This is also called a Type I error.\n",
        "\n",
        "False Negative (FN): Incorrectly predicted as negative (class 0), but the actual class is positive (class 1). This is also called a Type II error.\n",
        "\n",
        "\n",
        "ROC Curve (Receiver Operating Characteristic Curve): The ROC Curve is a graphical representation used to evaluate the performance of a binary classification model across all classification thresholds. It plots two metrics:\n",
        "\n",
        "* True Positive Rate (TPR) or Recall (Sensitivity)-It is the proportion of actual positive instances (class 1) that were correctly classified as positive by the model.\n",
        "* False Positive Rate (FPR)-It is the proportion of actual negative instances (class 0) that were incorrectly classified as positive by the model.\n",
        "\n",
        "\n",
        "AUC: AUC stands for Area Under the Curve and is a performance metric used to evaluate the quality of a binary classification model. Specifically, it refers to the area under the ROC curve (Receiver Operating Characteristic curve), which plots the True Positive Rate (TPR) versus the False Positive Rate (FPR) for different threshold values.\n",
        "\n",
        "\n",
        "\n",
        "Classification Report: A Classification Report is a summary of various classification metrics, which are useful for evaluating the performance of a classifier on the given dataset."
      ],
      "metadata": {
        "id": "fVenfC4e0urf"
      }
    },
    {
      "cell_type": "code",
      "source": [
        "import matplotlib.pyplot as plt\n",
        "from sklearn.metrics import confusion_matrix, classification_report, roc_curve, auc\n",
        "import itertools"
      ],
      "metadata": {
        "id": "AKlI_mDj1Z78"
      },
      "execution_count": 24,
      "outputs": []
    },
    {
      "cell_type": "code",
      "source": [
        "# Make predictions\n",
        "y_pred_test = model(X_test_tensor)\n",
        "\n",
        "# Convert probabilities to labels (binary classification: 0 or 1)\n",
        "y_pred_test_labels = (y_pred_test > 0.5).float()\n",
        "\n",
        "# Visualize the confusion matrix\n",
        "cm = confusion_matrix(y_test_tensor.numpy(), y_pred_test_labels.numpy())\n",
        "\n",
        "plt.figure(figsize=(6, 6))\n",
        "plt.imshow(cm, interpolation='nearest', cmap=plt.cm.Blues)\n",
        "plt.title('Confusion Matrix')\n",
        "plt.colorbar()\n",
        "tick_marks = range(2)\n",
        "plt.xticks(tick_marks, ['Loss', 'Win'], rotation=45)\n",
        "plt.yticks(tick_marks, ['Loss', 'Win'])\n",
        "\n",
        "thresh = cm.max() / 2\n",
        "for i, j in itertools.product(range(cm.shape[0]), range(cm.shape[1])):\n",
        "    plt.text(j, i, cm[i, j], horizontalalignment=\"center\", color=\"white\" if cm[i, j] > thresh else \"black\")\n",
        "\n",
        "plt.tight_layout()\n",
        "plt.ylabel('True label')\n",
        "plt.xlabel('Predicted label')\n",
        "plt.show()"
      ],
      "metadata": {
        "colab": {
          "base_uri": "https://localhost:8080/",
          "height": 606
        },
        "id": "Ao7in-HU1dmX",
        "outputId": "45ff21f8-59c8-450e-fbcb-1d51b3c57403"
      },
      "execution_count": 25,
      "outputs": [
        {
          "output_type": "display_data",
          "data": {
            "text/plain": [
              "<Figure size 600x600 with 2 Axes>"
            ],
            "image/png": "[encoded data removed]"
          },
          "metadata": {}
        }
      ]
    },
    {
      "cell_type": "code",
      "source": [
        "#  Print classification report\n",
        "print(\"Classification Report:\\n\", classification_report(y_test_tensor.numpy(), y_pred_test_labels.numpy(), target_names=['Loss', 'Win']))"
      ],
      "metadata": {
        "colab": {
          "base_uri": "https://localhost:8080/"
        },
        "id": "qOiBDC0U2IjT",
        "outputId": "2c2bc4da-b271-4ec4-f80c-b5179ab2c254"
      },
      "execution_count": 26,
      "outputs": [
        {
          "output_type": "stream",
          "name": "stdout",
          "text": [
            "Classification Report:\n",
            "               precision    recall  f1-score   support\n",
            "\n",
            "        Loss       0.54      0.45      0.49        98\n",
            "         Win       0.55      0.64      0.59       102\n",
            "\n",
            "    accuracy                           0.55       200\n",
            "   macro avg       0.54      0.54      0.54       200\n",
            "weighted avg       0.54      0.55      0.54       200\n",
            "\n"
          ]
        }
      ]
    },
    {
      "cell_type": "code",
      "source": [
        "# Plot ROC curve\n",
        "fpr, tpr, thresholds = roc_curve(y_test_tensor.detach().numpy(), y_pred_test.detach().numpy())\n",
        "roc_auc = auc(fpr, tpr)\n",
        "\n",
        "plt.figure()\n",
        "plt.plot(fpr, tpr, color='darkorange', lw=2, label=f'ROC curve (area = {roc_auc:.2f})')\n",
        "plt.plot([0, 1], [0, 1], color='navy', lw=2, linestyle='--')\n",
        "plt.xlim([0.0, 1.0])\n",
        "plt.ylim([0.0, 1.05])\n",
        "plt.xlabel('False Positive Rate')\n",
        "plt.ylabel('True Positive Rate')\n",
        "plt.title('Receiver Operating Characteristic (ROC)')\n",
        "plt.legend(loc=\"lower right\")\n",
        "plt.show()"
      ],
      "metadata": {
        "colab": {
          "base_uri": "https://localhost:8080/",
          "height": 472
        },
        "id": "ejfrTdjp2MbL",
        "outputId": "d75ba9e2-3d27-4130-cfe3-d54951d58955"
      },
      "execution_count": 27,
      "outputs": [
        {
          "output_type": "display_data",
          "data": {
            "text/plain": [
              "<Figure size 640x480 with 1 Axes>"
            ],
            "image/png": "[encoded data removed]"
          },
          "metadata": {}
        }
      ]
    },
    {
      "cell_type": "code",
      "source": [
        "print(\"Task 5 Completed!\")"
      ],
      "metadata": {
        "colab": {
          "base_uri": "https://localhost:8080/"
        },
        "id": "_cPB5RZt2XJc",
        "outputId": "b48bd105-647d-47c4-cc64-80d16342dfc1"
      },
      "execution_count": 28,
      "outputs": [
        {
          "output_type": "stream",
          "name": "stdout",
          "text": [
            "Task 5 Completed!\n"
          ]
        }
      ]
    },
    {
      "cell_type": "markdown",
      "source": [
        "# Task 6: Save and load the trained model.\n",
        "\n",
        "\n",
        "This task demonstrates the techniques to persist a trained model using torch.save and reload it using torch.load. Evaluating the loaded model ensures that it retains its performance, making it practical for deployment in real-world applications.\n",
        "\n",
        "* Saving the Model:\n",
        "Save the model's learned weights and biases using torch.save().( e.g. , torch.save(model.state_dict(), 'your_model_name.pth'))\n",
        "Saving only the state dictionary (model parameters) is preferred because it’s more flexible and efficient than saving the entire model object.\n",
        "* Loading the Model:\n",
        "Create a new model instance (e.g., model = LogisticRegressionModel()) and load the saved parameters. ( e.g. , model.load_state_dict(torch.load('your_model_name.pth')))`.\n",
        "* Evaluating the Loaded Model:\n",
        "After loading, set the model to evaluation mode by calling `model.eval()\n",
        "After loading the model, evaluate it again on the test dataset to make sure it performs similarly to when it was first trained..Now evaluate it on the test data.\n",
        "Use torch.no_grad() to ensure that no gradients are computed."
      ],
      "metadata": {
        "id": "_WOqdf5e2akX"
      }
    },
    {
      "cell_type": "code",
      "source": [
        "## Write your code here\n",
        "# Save the model\n",
        "torch.save(model.state_dict(), \"logistic_model.pth\")\n",
        "print(\"Model saved!\")\n",
        "\n",
        "# Load the model\n",
        "loaded_model = LogisticRegressionModel(input_dim)\n",
        "loaded_model.load_state_dict(torch.load(\"logistic_model.pth\"))\n",
        "print(\"Model loaded!\")\n",
        "\n",
        "\n",
        "# Ensure the loaded model is in evaluation mode\n",
        "loaded_model.eval()\n",
        "\n",
        "\n",
        "# Evaluate the loaded model\n",
        "with torch.no_grad():\n",
        "    loaded_test_predictions = loaded_model(X_test_tensor)\n",
        "    loaded_test_predictions = (loaded_test_predictions >= 0.5).float()\n",
        "    loaded_accuracy = (loaded_test_predictions == y_test_tensor).float().mean()\n",
        "\n",
        "print(\"Loaded Model Test Accuracy: \",loaded_accuracy.item())"
      ],
      "metadata": {
        "id": "a4MpHKfu2v4R",
        "outputId": "fb74eb45-e898-4458-886d-7aee74b0c570",
        "colab": {
          "base_uri": "https://localhost:8080/"
        }
      },
      "execution_count": 29,
      "outputs": [
        {
          "output_type": "stream",
          "name": "stdout",
          "text": [
            "Model saved!\n",
            "Model loaded!\n",
            "Loaded Model Test Accuracy:  0.5450000166893005\n"
          ]
        }
      ]
    },
    {
      "cell_type": "markdown",
      "source": [
        "# Step 7: Hyperparameter Tuning\n",
        "Task 7: Perform hyperparameter tuning to find the best learning rate.\n",
        "By testing different learning rates, you will identify the optimal rate that provides the best test accuracy. This fine-tuning is crucial for enhancing model performance .\n",
        "\n",
        "* Define Learning Rates:\n",
        "\n",
        "Choose these learning rates to test ,[0.01, 0.05, 0.1]\n",
        "Reinitialize the Model for Each Learning Rate:\n",
        "\n",
        "For each learning rate, you’ll need to reinitialize the model and optimizer e.g.(torch.optim.SGD(model.parameters(), lr=lr)).\n",
        "Each new learning rate requires reinitializing the model since the optimizer and its parameters are linked to the learning rate.\n",
        "* Train the Model for Each Learning Rate:\n",
        "Train the model for a fixed number of epochs (e.g., 50 or 100 epochs) for each learning rate, and compute the accuracy on the test set.\n",
        "Track the test accuracy for each learning rate and identify which one yields the best performance.\n",
        "* Evaluate and Compare:\n",
        "After training with each learning rate, compare the test accuracy for each configuration.\n",
        "Report the learning rate that gives the highest test accuracy"
      ],
      "metadata": {
        "id": "gT5_3x8pKpa0"
      }
    },
    {
      "cell_type": "code",
      "source": [
        "# Define learning rates to test\n",
        "learning_rates = [0.01, 0.05, 0.1]"
      ],
      "metadata": {
        "id": "IhbQhf1NKxyJ"
      },
      "execution_count": 30,
      "outputs": []
    },
    {
      "cell_type": "code",
      "source": [
        "#  Initialize an empty dictionary to store results\n",
        "learning_rate_results = {}\n",
        "\n",
        "# Train and evaluate the model for each learning rate\n",
        "for lr in learning_rates:\n",
        "    print(f\"Training with learning rate: {lr}\")\n",
        "\n",
        "    # Reinitialize the model and optimizer\n",
        "    model = LogisticRegressionModel(input_dim)\n",
        "    optimizer = torch.optim.SGD(model.parameters(), lr=lr)\n",
        "    criterion = nn.BCELoss()\n",
        "\n",
        "    # Train the model\n",
        "    num_epochs = 50  # or 100 epochs\n",
        "    for epoch in range(num_epochs):\n",
        "        model.train()\n",
        "        optimizer.zero_grad()\n",
        "        output = model(X_train_tensor)\n",
        "        loss = criterion(output, y_train_tensor)\n",
        "        loss.backward()\n",
        "        optimizer.step()\n",
        "\n",
        "    # Evaluate the model on the test set\n",
        "    model.eval()\n",
        "    with torch.no_grad():\n",
        "        predictions = model(X_test_tensor)\n",
        "        predictions = (predictions >= 0.5).float()  # Convert probabilities to class labels\n",
        "        accuracy = (predictions == y_test_tensor).float().mean()\n",
        "\n",
        "    # Store the test accuracy for this learning rate\n",
        "    learning_rate_results[lr] = accuracy.item()\n",
        "\n",
        "    print(\"Test Accuracy with learning rate \", lr, \":\", accuracy.item())"
      ],
      "metadata": {
        "colab": {
          "base_uri": "https://localhost:8080/"
        },
        "id": "_zNE9fq8K0Ks",
        "outputId": "f0248841-32bf-4b6c-fba6-b5630b698b15"
      },
      "execution_count": 32,
      "outputs": [
        {
          "output_type": "stream",
          "name": "stdout",
          "text": [
            "Training with learning rate: 0.01\n",
            "Test Accuracy with learning rate  0.01 : 0.47999998927116394\n",
            "Training with learning rate: 0.05\n",
            "Test Accuracy with learning rate  0.05 : 0.4449999928474426\n",
            "Training with learning rate: 0.1\n",
            "Test Accuracy with learning rate  0.1 : 0.5199999809265137\n"
          ]
        }
      ]
    },
    {
      "cell_type": "code",
      "source": [
        "# Identify the best learning rate\n",
        "best_lr = max(learning_rate_results, key=learning_rate_results.get)\n",
        "best_accuracy = learning_rate_results[best_lr]\n",
        "\n",
        "print(\"Best learning rate is\", best_lr,\"with highest test accuracy:\", best_accuracy)"
      ],
      "metadata": {
        "colab": {
          "base_uri": "https://localhost:8080/"
        },
        "id": "qPgLQ0tbK8yY",
        "outputId": "beae6841-6a77-4ea1-f95b-79595ba3ca0f"
      },
      "execution_count": 33,
      "outputs": [
        {
          "output_type": "stream",
          "name": "stdout",
          "text": [
            "Best learning rate is 0.1 with highest test accuracy: 0.5199999809265137\n"
          ]
        }
      ]
    },
    {
      "cell_type": "markdown",
      "source": [
        "# Step 8: Feature Importance\n",
        "Task 8: Evaluate feature importance to understand the impact of each feature on the prediction.\n",
        "The code to evaluate feature importance to understand the impact of each feature on the prediction.\n",
        "\n",
        "1.Extracting Model Weights:\n",
        "\n",
        "* The weights of the logistic regression model represent the importance of each feature in making predictions. These weights are stored in the model's linear layer (model.linear.weight).\n",
        "* You can extract the weights using model.linear.weight.data.numpy() and flatten the resulting tensor to get a 1D array of feature importances.\n",
        "\n",
        "2.Creating a DataFrame:\n",
        "\n",
        "* Create a pandas DataFrame with two columns: one for the feature names and the other for their corresponding importance values (i.e., the learned weights).\n",
        "Ensure the features are aligned with their names in your dataset (e.g., `X_train.columns).\n",
        "* Sorting and Plotting Feature Importance:\n",
        "Sort the features based on the absolute value of their importance (weights) to identify the most impactful features.\n",
        "* Use a bar plot (via matplotlib) to visualize the sorted feature importances, with the feature names on the y-axis and importance values on the x-axis.\n",
        "* Interpreting the Results:\n",
        "Larger absolute weights indicate more influential features. Positive weights suggest a positive correlation with the outcome (likely to predict the positive class), while negative weights suggest the opposite."
      ],
      "metadata": {
        "id": "gt1vavE7LQO-"
      }
    },
    {
      "cell_type": "code",
      "source": [
        "import pandas as pd\n",
        "import matplotlib.pyplot as plt\n",
        "\n",
        "# Extract the weights of the linear layer\n",
        "## Write your code here\n",
        "weights = model.linear.weight.data.numpy().flatten()  # Flatten the weights to get a 1D array\n",
        "features = X.columns  # Assuming you are using a DataFrame for X_train\n",
        "\n",
        "# Create a DataFrame for feature importance\n",
        "## Write your code here\n",
        "feature_importance = pd.DataFrame({'Feature': features, 'Importance': weights})\n",
        "feature_importance = feature_importance.sort_values(by='Importance', ascending=False)\n",
        "\n",
        "print(feature_importance)"
      ],
      "metadata": {
        "colab": {
          "base_uri": "https://localhost:8080/"
        },
        "id": "7mA89q0ILRW4",
        "outputId": "4d8c2e19-a0c6-4c83-a534-771d2e46c860"
      },
      "execution_count": 34,
      "outputs": [
        {
          "output_type": "stream",
          "name": "stdout",
          "text": [
            "        Feature  Importance\n",
            "2       assists    0.104052\n",
            "5  wards_placed    0.061806\n",
            "6  wards_killed    0.053195\n",
            "3   gold_earned    0.052159\n",
            "0         kills    0.039260\n",
            "1        deaths    0.029976\n",
            "4            cs   -0.057144\n",
            "7  damage_dealt   -0.119967\n"
          ]
        }
      ]
    },
    {
      "cell_type": "code",
      "source": [
        "# Plot feature importance\n",
        "plt.figure(figsize=(10, 6))\n",
        "plt.barh(feature_importance['Feature'], feature_importance['Importance'])\n",
        "plt.xlabel('Importance')\n",
        "plt.ylabel('Features')\n",
        "plt.title('Feature Importance')\n",
        "plt.show()"
      ],
      "metadata": {
        "colab": {
          "base_uri": "https://localhost:8080/",
          "height": 564
        },
        "id": "M-DKectILg9K",
        "outputId": "40a6b199-13b6-4b23-e400-b5d10510601f"
      },
      "execution_count": 35,
      "outputs": [
        {
          "output_type": "display_data",
          "data": {
            "text/plain": [
              "<Figure size 1000x600 with 1 Axes>"
            ],
            "image/png": "[encoded data removed]"
          },
          "metadata": {}
        }
      ]
    }
  ]
}